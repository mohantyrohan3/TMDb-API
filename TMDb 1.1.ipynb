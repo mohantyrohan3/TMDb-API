{
 "cells": [
  {
   "cell_type": "markdown",
   "id": "ec0b613c",
   "metadata": {},
   "source": [
    "# Find the 'id' of the movie \"Andhadhun\" using TMDb API."
   ]
  },
  {
   "cell_type": "code",
   "execution_count": 17,
   "id": "ca6a6614",
   "metadata": {},
   "outputs": [],
   "source": [
    "import requests\n",
    "res=requests.get('https://api.themoviedb.org/3/search/movie',params={'api_key':'19601e45727396ac951a4ac501939657','query':'Andhadhun'})"
   ]
  },
  {
   "cell_type": "code",
   "execution_count": 18,
   "id": "42d9fadd",
   "metadata": {},
   "outputs": [
    {
     "data": {
      "text/plain": [
       "{'page': 1,\n",
       " 'results': [{'adult': False,\n",
       "   'backdrop_path': '/73aKTjdQ46jpv3InqNVnV76Nl0K.jpg',\n",
       "   'genre_ids': [80, 53, 35],\n",
       "   'id': 534780,\n",
       "   'original_language': 'hi',\n",
       "   'original_title': 'अंधाधुन',\n",
       "   'overview': 'A series of mysterious events changes the life of a blind pianist who now must report a crime that was actually never witnessed by him.',\n",
       "   'popularity': 8.815,\n",
       "   'poster_path': '/kbqTKqz3amub4GUE5qLEQFFR8Ro.jpg',\n",
       "   'release_date': '2018-10-05',\n",
       "   'title': 'Andhadhun',\n",
       "   'video': False,\n",
       "   'vote_average': 7.7,\n",
       "   'vote_count': 343}],\n",
       " 'total_pages': 1,\n",
       " 'total_results': 1}"
      ]
     },
     "execution_count": 18,
     "metadata": {},
     "output_type": "execute_result"
    }
   ],
   "source": [
    "import json\n",
    "p=json.loads(res.text)\n",
    "p"
   ]
  },
  {
   "cell_type": "code",
   "execution_count": 23,
   "id": "e0c173da",
   "metadata": {},
   "outputs": [
    {
     "name": "stdout",
     "output_type": "stream",
     "text": [
      "534780\n"
     ]
    }
   ],
   "source": [
    "print(p[\"results\"][0][\"id\"])"
   ]
  },
  {
   "cell_type": "code",
   "execution_count": null,
   "id": "036770cc",
   "metadata": {},
   "outputs": [],
   "source": []
  }
 ],
 "metadata": {
  "kernelspec": {
   "display_name": "Python 3 (ipykernel)",
   "language": "python",
   "name": "python3"
  },
  "language_info": {
   "codemirror_mode": {
    "name": "ipython",
    "version": 3
   },
   "file_extension": ".py",
   "mimetype": "text/x-python",
   "name": "python",
   "nbconvert_exporter": "python",
   "pygments_lexer": "ipython3",
   "version": "3.9.7"
  }
 },
 "nbformat": 4,
 "nbformat_minor": 5
}
