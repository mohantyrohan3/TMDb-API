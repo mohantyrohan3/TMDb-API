{
 "cells": [
  {
   "cell_type": "markdown",
   "id": "b295eac1",
   "metadata": {},
   "source": [
    "# Find the name and birthplace of the present most popular person according to TMDb API.|"
   ]
  },
  {
   "cell_type": "code",
   "execution_count": 1,
   "id": "7f51b131",
   "metadata": {},
   "outputs": [
    {
     "data": {
      "text/plain": [
       "200"
      ]
     },
     "execution_count": 1,
     "metadata": {},
     "output_type": "execute_result"
    }
   ],
   "source": [
    "import requests\n",
    "\n",
    "r=requests.get(\"https://api.themoviedb.org/3/person/popular\",params={\"api_key\":\"19601e45727396ac951a4ac501939657\"})\n",
    "\n",
    "r.status_code"
   ]
  },
  {
   "cell_type": "code",
   "execution_count": 5,
   "id": "d21ee255",
   "metadata": {},
   "outputs": [],
   "source": [
    "# retrieving Id for famous person\n",
    "import json\n",
    "p=json.loads(r.text)\n",
    "ID=p[\"results\"][0][\"id\"]"
   ]
  },
  {
   "cell_type": "code",
   "execution_count": 6,
   "id": "5de55388",
   "metadata": {},
   "outputs": [
    {
     "data": {
      "text/plain": [
       "200"
      ]
     },
     "execution_count": 6,
     "metadata": {},
     "output_type": "execute_result"
    }
   ],
   "source": [
    "# Getting details \n",
    "\n",
    "rq=requests.get(\"https://api.themoviedb.org/3/person/1748294\",params={\"api_key\":\"19601e45727396ac951a4ac501939657\"})\n",
    "rq.status_code\n"
   ]
  },
  {
   "cell_type": "code",
   "execution_count": 7,
   "id": "5c5522c0",
   "metadata": {},
   "outputs": [
    {
     "data": {
      "text/plain": [
       "{'adult': False,\n",
       " 'also_known_as': ['Azusa Satou',\n",
       "  '佐藤あずさ',\n",
       "  '佐藤 あずさ',\n",
       "  'Sachi Yun\\t',\n",
       "  '咲智 ゆん',\n",
       "  'Azusa Satō'],\n",
       " 'biography': 'Azusa Sato, born January 8, is a voice actress from Okayama Prefecture. She is currently affiliated with Mausu Promotion.',\n",
       " 'birthday': None,\n",
       " 'deathday': None,\n",
       " 'gender': 1,\n",
       " 'homepage': 'https://mausu.net/talent/sato-azusa.html',\n",
       " 'id': 1748294,\n",
       " 'imdb_id': 'nm5411978',\n",
       " 'known_for_department': 'Acting',\n",
       " 'name': 'Azusa Sato',\n",
       " 'place_of_birth': 'Okayama Prefecture, Japan',\n",
       " 'popularity': 327.473,\n",
       " 'profile_path': '/7Uttrx7nfq4Rx9KX2urK0uJJ1VA.jpg'}"
      ]
     },
     "execution_count": 7,
     "metadata": {},
     "output_type": "execute_result"
    }
   ],
   "source": [
    "pq=json.loads(rq.text)\n",
    "pq"
   ]
  },
  {
   "cell_type": "code",
   "execution_count": 8,
   "id": "1d81f698",
   "metadata": {},
   "outputs": [
    {
     "name": "stdout",
     "output_type": "stream",
     "text": [
      "Azusa Sato\n"
     ]
    }
   ],
   "source": [
    "print(pq[\"name\"])"
   ]
  },
  {
   "cell_type": "code",
   "execution_count": 9,
   "id": "e32a02fc",
   "metadata": {},
   "outputs": [
    {
     "name": "stdout",
     "output_type": "stream",
     "text": [
      "Okayama Prefecture, Japan\n"
     ]
    }
   ],
   "source": [
    "print(pq[\"place_of_birth\"])"
   ]
  },
  {
   "cell_type": "code",
   "execution_count": null,
   "id": "870230a0",
   "metadata": {},
   "outputs": [],
   "source": []
  }
 ],
 "metadata": {
  "kernelspec": {
   "display_name": "Python 3 (ipykernel)",
   "language": "python",
   "name": "python3"
  },
  "language_info": {
   "codemirror_mode": {
    "name": "ipython",
    "version": 3
   },
   "file_extension": ".py",
   "mimetype": "text/x-python",
   "name": "python",
   "nbconvert_exporter": "python",
   "pygments_lexer": "ipython3",
   "version": "3.9.7"
  }
 },
 "nbformat": 4,
 "nbformat_minor": 5
}
