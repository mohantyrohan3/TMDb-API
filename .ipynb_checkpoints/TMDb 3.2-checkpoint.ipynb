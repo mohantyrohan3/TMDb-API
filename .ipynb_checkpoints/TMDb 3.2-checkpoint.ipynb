{
 "cells": [
  {
   "cell_type": "markdown",
   "id": "9f4e9a87",
   "metadata": {},
   "source": [
    "# Fetch the name and air date of S06E05 of the TV Show 'The Big Bang Theory' from TMDb API."
   ]
  },
  {
   "cell_type": "code",
   "execution_count": 1,
   "id": "92e569a2",
   "metadata": {},
   "outputs": [
    {
     "data": {
      "text/plain": [
       "200"
      ]
     },
     "execution_count": 1,
     "metadata": {},
     "output_type": "execute_result"
    }
   ],
   "source": [
    "# First we have fetch the id of the Tv show\n",
    "import requests\n",
    "\n",
    "r=requests.get(\"https://api.themoviedb.org/3/search/tv\",params={\"api_key\":\"19601e45727396ac951a4ac501939657\",\"query\":\"Big Bang Theory\"})\n",
    "r.status_code"
   ]
  },
  {
   "cell_type": "code",
   "execution_count": 3,
   "id": "c043e64d",
   "metadata": {},
   "outputs": [
    {
     "data": {
      "text/plain": [
       "1418"
      ]
     },
     "execution_count": 3,
     "metadata": {},
     "output_type": "execute_result"
    }
   ],
   "source": [
    "import json\n",
    "\n",
    "p=json.loads(r.text)\n",
    "ID=p[\"results\"][0][\"id\"]\n",
    "ID"
   ]
  },
  {
   "cell_type": "code",
   "execution_count": 4,
   "id": "52213661",
   "metadata": {},
   "outputs": [
    {
     "data": {
      "text/plain": [
       "200"
      ]
     },
     "execution_count": 4,
     "metadata": {},
     "output_type": "execute_result"
    }
   ],
   "source": [
    "# Now finding details of respective season\n",
    "\n",
    "rq=requests.get(\"https://api.themoviedb.org/3/tv/1418/season/6\",params={\"api_key\":\"19601e45727396ac951a4ac501939657\"})\n",
    "rq.status_code"
   ]
  },
  {
   "cell_type": "code",
   "execution_count": 10,
   "id": "302c705d",
   "metadata": {},
   "outputs": [],
   "source": [
    "pq=json.loads(rq.text)\n",
    "\n",
    "\n",
    "# Answer\n",
    "\n",
    "\n",
    "Name=pq[\"episodes\"][4][\"name\"]\n",
    "date=pq[\"episodes\"][4][\"air_date\"]"
   ]
  },
  {
   "cell_type": "code",
   "execution_count": 11,
   "id": "b0ca1443",
   "metadata": {},
   "outputs": [
    {
     "name": "stdout",
     "output_type": "stream",
     "text": [
      "The Holographic Excitation  -  2012-10-25\n"
     ]
    }
   ],
   "source": [
    "print(Name,\" - \",date)      # Answer"
   ]
  },
  {
   "cell_type": "code",
   "execution_count": null,
   "id": "fc6881be",
   "metadata": {},
   "outputs": [],
   "source": []
  }
 ],
 "metadata": {
  "kernelspec": {
   "display_name": "Python 3 (ipykernel)",
   "language": "python",
   "name": "python3"
  },
  "language_info": {
   "codemirror_mode": {
    "name": "ipython",
    "version": 3
   },
   "file_extension": ".py",
   "mimetype": "text/x-python",
   "name": "python",
   "nbconvert_exporter": "python",
   "pygments_lexer": "ipython3",
   "version": "3.9.7"
  }
 },
 "nbformat": 4,
 "nbformat_minor": 5
}
