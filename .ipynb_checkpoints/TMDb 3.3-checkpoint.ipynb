{
 "cells": [
  {
   "cell_type": "markdown",
   "id": "2f213026",
   "metadata": {},
   "source": [
    "# Fetch the trending TV Shows for the week from the TMDb API and print the taglines of the top 5 shows. If there is no tagline, print 'Empty' instead"
   ]
  },
  {
   "cell_type": "code",
   "execution_count": 1,
   "id": "2040f5bd",
   "metadata": {},
   "outputs": [
    {
     "name": "stdout",
     "output_type": "stream",
     "text": [
      "Every ending has a beginning.\n",
      "Evil has evolved.\n",
      "The future is in her hands.\n",
      "Never meet your heroes.\n",
      "Your memory makes you question the truth.\n"
     ]
    }
   ],
   "source": [
    "import requests\n",
    "## Write your code here\n",
    "api_key = '17e796574ea296ee8295fbd9d3500f61'\n",
    "api_link = 'https://api.themoviedb.org/3'\n",
    "\n",
    "p = {'api_key' : api_key}\n",
    "h = {'accept' : 'application/json'}\n",
    "\n",
    "r = requests.get(api_link + '/trending/tv/week', headers=h, params=p)\n",
    "data = r.json()\n",
    "s = data['results']\n",
    "ids = []\n",
    "for i in s[0:5]:\n",
    "    ids.append(i['id'])\n",
    "\n",
    "for i in ids:\n",
    "    r2 = requests.get(api_link + '/tv/' + str(i) , headers=h, params=p)\n",
    "    data2 = r2.json()\n",
    "    if data2['tagline'] != \"\":\n",
    "        print(data2['tagline'])\n",
    "    else:\n",
    "        print('empty')\n",
    "    "
   ]
  },
  {
   "cell_type": "code",
   "execution_count": null,
   "id": "c4126ad6",
   "metadata": {},
   "outputs": [],
   "source": []
  }
 ],
 "metadata": {
  "kernelspec": {
   "display_name": "Python 3 (ipykernel)",
   "language": "python",
   "name": "python3"
  },
  "language_info": {
   "codemirror_mode": {
    "name": "ipython",
    "version": 3
   },
   "file_extension": ".py",
   "mimetype": "text/x-python",
   "name": "python",
   "nbconvert_exporter": "python",
   "pygments_lexer": "ipython3",
   "version": "3.9.7"
  }
 },
 "nbformat": 4,
 "nbformat_minor": 5
}
