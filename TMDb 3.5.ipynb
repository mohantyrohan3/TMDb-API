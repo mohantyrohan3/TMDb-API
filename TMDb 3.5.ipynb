{
 "cells": [
  {
   "cell_type": "markdown",
   "id": "ad000b13",
   "metadata": {},
   "source": [
    "# Count the number of males and females in the cast of \"Money Heist\" using the TMDb API."
   ]
  },
  {
   "cell_type": "code",
   "execution_count": 1,
   "id": "182dff21",
   "metadata": {},
   "outputs": [
    {
     "data": {
      "text/plain": [
       "200"
      ]
     },
     "execution_count": 1,
     "metadata": {},
     "output_type": "execute_result"
    }
   ],
   "source": [
    "# First Fetch the id of tv show\n",
    "import requests\n",
    "\n",
    "r=requests.get(\"https://api.themoviedb.org/3/search/tv\",params={\"api_key\":\"19601e45727396ac951a4ac501939657\",\"query\":\"Money Heist\"})\n",
    "r.status_code"
   ]
  },
  {
   "cell_type": "code",
   "execution_count": 3,
   "id": "ccfd5734",
   "metadata": {},
   "outputs": [
    {
     "data": {
      "text/plain": [
       "71446"
      ]
     },
     "execution_count": 3,
     "metadata": {},
     "output_type": "execute_result"
    }
   ],
   "source": [
    "import json\n",
    "\n",
    "p=json.loads(r.text)\n",
    "ID=p[\"results\"][1][\"id\"]\n",
    "ID"
   ]
  },
  {
   "cell_type": "code",
   "execution_count": 4,
   "id": "bb3c950f",
   "metadata": {},
   "outputs": [
    {
     "data": {
      "text/plain": [
       "200"
      ]
     },
     "execution_count": 4,
     "metadata": {},
     "output_type": "execute_result"
    }
   ],
   "source": [
    "# Now getting details about cast of the show\n",
    "\n",
    "rq=requests.get(\"https://api.themoviedb.org/3/tv/71446/credits\",params={\"api_key\":\"19601e45727396ac951a4ac501939657\"})\n",
    "rq.status_code"
   ]
  },
  {
   "cell_type": "code",
   "execution_count": 5,
   "id": "24ddd0ee",
   "metadata": {},
   "outputs": [
    {
     "data": {
      "text/plain": [
       "{'cast': [{'adult': False,\n",
       "   'gender': 2,\n",
       "   'id': 1340020,\n",
       "   'known_for_department': 'Acting',\n",
       "   'name': 'Álvaro Morte',\n",
       "   'original_name': 'Álvaro Morte',\n",
       "   'popularity': 17.221,\n",
       "   'profile_path': '/2TGPhdpRC5wjdFEJqnLYiN5kbwg.jpg',\n",
       "   'character': \"Sergio 'El Profesor' Marquina / Salvador 'Salva' Martin\",\n",
       "   'credit_id': '5d3376536a300b1834ac44e5',\n",
       "   'order': 0},\n",
       "  {'adult': False,\n",
       "   'gender': 2,\n",
       "   'id': 1109836,\n",
       "   'known_for_department': 'Acting',\n",
       "   'name': 'Pedro Alonso',\n",
       "   'original_name': 'Pedro Alonso',\n",
       "   'popularity': 17.524,\n",
       "   'profile_path': '/38HeVKeOBztVYrLJOWzAtEZiB02.jpg',\n",
       "   'character': \"Andrés 'Berlin' de Fonollosa\",\n",
       "   'credit_id': '5d34b7bd17792c0012bcac8d',\n",
       "   'order': 1},\n",
       "  {'adult': False,\n",
       "   'gender': 1,\n",
       "   'id': 1042728,\n",
       "   'known_for_department': 'Acting',\n",
       "   'name': 'Úrsula Corberó',\n",
       "   'original_name': 'Úrsula Corberó',\n",
       "   'popularity': 33.356,\n",
       "   'profile_path': '/wfy2YBmaGkH5kl60y3P03tTAMMc.jpg',\n",
       "   'character': \"Silene 'Tokio' Oliveira\",\n",
       "   'credit_id': '5a422574c3a36858c5036f41',\n",
       "   'order': 2},\n",
       "  {'adult': False,\n",
       "   'gender': 1,\n",
       "   'id': 947514,\n",
       "   'known_for_department': 'Acting',\n",
       "   'name': 'Itziar Ituño',\n",
       "   'original_name': 'Itziar Ituño',\n",
       "   'popularity': 29.444,\n",
       "   'profile_path': '/vnrfL03NwRJ1X82esSNUoYzASGr.jpg',\n",
       "   'character': 'Raquel Murillo',\n",
       "   'credit_id': '5a4225d29251411fab04d6ea',\n",
       "   'order': 3},\n",
       "  {'adult': False,\n",
       "   'gender': 2,\n",
       "   'id': 1972706,\n",
       "   'known_for_department': 'Acting',\n",
       "   'name': 'Jaime Lorente',\n",
       "   'original_name': 'Jaime Lorente',\n",
       "   'popularity': 20.171,\n",
       "   'profile_path': '/nLaxzU92z14FIbe25sE8jDMIThZ.jpg',\n",
       "   'character': \"Dani 'Denver' Ramos\",\n",
       "   'credit_id': '5a773f46c3a3682273001229',\n",
       "   'order': 4},\n",
       "  {'adult': False,\n",
       "   'gender': 2,\n",
       "   'id': 1428896,\n",
       "   'known_for_department': 'Acting',\n",
       "   'name': 'Miguel Herrán',\n",
       "   'original_name': 'Miguel Herrán',\n",
       "   'popularity': 17.268,\n",
       "   'profile_path': '/jJ8UKek4GvQrQUP9q97Kq2MWVqi.jpg',\n",
       "   'character': \"Aníbal 'Río' Cortés\",\n",
       "   'credit_id': '5a4227c89251411f4f04a5b3',\n",
       "   'order': 5},\n",
       "  {'adult': False,\n",
       "   'gender': 1,\n",
       "   'id': 1972707,\n",
       "   'known_for_department': 'Acting',\n",
       "   'name': 'Esther Acebo',\n",
       "   'original_name': 'Esther Acebo',\n",
       "   'popularity': 13.4,\n",
       "   'profile_path': '/2v2eOKCjnQfY3jCsowtH8wLxFMC.jpg',\n",
       "   'character': 'Mónica Gaztambide',\n",
       "   'credit_id': '5a773f680e0a26598500132a',\n",
       "   'order': 6},\n",
       "  {'adult': False,\n",
       "   'gender': 1,\n",
       "   'id': 16442,\n",
       "   'known_for_department': 'Acting',\n",
       "   'name': 'Najwa Nimri',\n",
       "   'original_name': 'Najwa Nimri',\n",
       "   'popularity': 22.756,\n",
       "   'profile_path': '/hvLbKkDIT4FqSS8djmW5voNd0O4.jpg',\n",
       "   'character': 'Alicia Sierra',\n",
       "   'credit_id': '5d2e09e8caab6d1e81a3b6f2',\n",
       "   'order': 7},\n",
       "  {'adult': False,\n",
       "   'gender': 2,\n",
       "   'id': 18478,\n",
       "   'known_for_department': 'Acting',\n",
       "   'name': 'Rodrigo de la Serna',\n",
       "   'original_name': 'Rodrigo de la Serna',\n",
       "   'popularity': 5.501,\n",
       "   'profile_path': '/vMuKUJSnEGOmjjLYzVDKGukiaCr.jpg',\n",
       "   'character': \"Martín 'Palermo' Berrote\",\n",
       "   'credit_id': '5d2e07af839d93000eefbc63',\n",
       "   'order': 8},\n",
       "  {'adult': False,\n",
       "   'gender': 2,\n",
       "   'id': 1898026,\n",
       "   'known_for_department': 'Acting',\n",
       "   'name': 'Darko Peric',\n",
       "   'original_name': 'Darko Peric',\n",
       "   'popularity': 6.341,\n",
       "   'profile_path': '/9IsIRW3PE105bfwen4IzGPXfmQc.jpg',\n",
       "   'character': \"Mirko 'Helsinki' Dragic\",\n",
       "   'credit_id': '5a773f9a92514177690011a6',\n",
       "   'order': 9},\n",
       "  {'adult': False,\n",
       "   'gender': 2,\n",
       "   'id': 1131415,\n",
       "   'known_for_department': 'Acting',\n",
       "   'name': 'Hovik Keuchkerian',\n",
       "   'original_name': 'Hovik Keuchkerian',\n",
       "   'popularity': 5.886,\n",
       "   'profile_path': '/o5cGKWHlZl4RFROYlT2hD95j0lN.jpg',\n",
       "   'character': \"Santiago 'Bogotá' López\",\n",
       "   'credit_id': '5d2e078f6a300b000fa4d50c',\n",
       "   'order': 10},\n",
       "  {'adult': False,\n",
       "   'gender': 2,\n",
       "   'id': 1076809,\n",
       "   'known_for_department': 'Acting',\n",
       "   'name': 'Luka Peroš',\n",
       "   'original_name': 'Luka Peroš',\n",
       "   'popularity': 4.92,\n",
       "   'profile_path': '/lfh7959EpR9gAvrjObNGXaUg2qF.jpg',\n",
       "   'character': \"Jakov 'Marsella'\",\n",
       "   'credit_id': '610d419d323eba005dd9c933',\n",
       "   'order': 11},\n",
       "  {'adult': False,\n",
       "   'gender': 1,\n",
       "   'id': 1423493,\n",
       "   'known_for_department': 'Acting',\n",
       "   'name': 'Belén Cuesta',\n",
       "   'original_name': 'Belén Cuesta',\n",
       "   'popularity': 8.161,\n",
       "   'profile_path': '/xxaNCeIuLh7nZvuCrwANO3zwI5g.jpg',\n",
       "   'character': 'Julia Martínez',\n",
       "   'credit_id': '610d41ae5a4690005ff40b54',\n",
       "   'order': 12},\n",
       "  {'adult': False,\n",
       "   'gender': 2,\n",
       "   'id': 944099,\n",
       "   'known_for_department': 'Acting',\n",
       "   'name': 'Enrique Arce',\n",
       "   'original_name': 'Enrique Arce',\n",
       "   'popularity': 14.516,\n",
       "   'profile_path': '/1lACQepfukuZ0l6FnUpMO03WxcJ.jpg',\n",
       "   'character': 'Arturo Román',\n",
       "   'credit_id': '5a773eeac3a368227b001336',\n",
       "   'order': 13},\n",
       "  {'adult': False,\n",
       "   'gender': 2,\n",
       "   'id': 51902,\n",
       "   'known_for_department': 'Acting',\n",
       "   'name': 'Fernando Cayo',\n",
       "   'original_name': 'Fernando Cayo',\n",
       "   'popularity': 3.498,\n",
       "   'profile_path': '/sglfXHNFlzOBBLuRrbDkxghSW4H.jpg',\n",
       "   'character': 'Luis Tamayo',\n",
       "   'credit_id': '610d41fa323eba005dd9c9d8',\n",
       "   'order': 14}],\n",
       " 'crew': [],\n",
       " 'id': 71446}"
      ]
     },
     "execution_count": 5,
     "metadata": {},
     "output_type": "execute_result"
    }
   ],
   "source": [
    "pq=json.loads(rq.text)\n",
    "\n",
    "pq"
   ]
  },
  {
   "cell_type": "code",
   "execution_count": 9,
   "id": "30a9082a",
   "metadata": {},
   "outputs": [],
   "source": [
    "Male=0\n",
    "Female=0\n",
    "for i in pq[\"cast\"]:\n",
    "    if i[\"gender\"]==2:\n",
    "        Male+=1\n",
    "    else:\n",
    "        Female+=1"
   ]
  },
  {
   "cell_type": "code",
   "execution_count": 10,
   "id": "994f252e",
   "metadata": {},
   "outputs": [
    {
     "name": "stdout",
     "output_type": "stream",
     "text": [
      " Male : 10    Female : 5\n"
     ]
    }
   ],
   "source": [
    "# Answer\n",
    "print(\" Male : 10\",\" \",\" Female : 5\")"
   ]
  },
  {
   "cell_type": "code",
   "execution_count": null,
   "id": "1169ad94",
   "metadata": {},
   "outputs": [],
   "source": []
  }
 ],
 "metadata": {
  "kernelspec": {
   "display_name": "Python 3 (ipykernel)",
   "language": "python",
   "name": "python3"
  },
  "language_info": {
   "codemirror_mode": {
    "name": "ipython",
    "version": 3
   },
   "file_extension": ".py",
   "mimetype": "text/x-python",
   "name": "python",
   "nbconvert_exporter": "python",
   "pygments_lexer": "ipython3",
   "version": "3.9.7"
  }
 },
 "nbformat": 4,
 "nbformat_minor": 5
}
