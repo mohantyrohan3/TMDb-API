{
 "cells": [
  {
   "cell_type": "markdown",
   "id": "24953b80",
   "metadata": {},
   "source": [
    "# Fetch the Instagram and Twitter handle of Indian Actress \"Alia Bhatt\" from the TMDb API."
   ]
  },
  {
   "cell_type": "code",
   "execution_count": 1,
   "id": "e6e3a3b0",
   "metadata": {},
   "outputs": [
    {
     "data": {
      "text/plain": [
       "200"
      ]
     },
     "execution_count": 1,
     "metadata": {},
     "output_type": "execute_result"
    }
   ],
   "source": [
    "# First fetch the id of the person\n",
    "import requests\n",
    "\n",
    "r=requests.get(\"https://api.themoviedb.org/3/search/person\",params={\"api_key\":\"19601e45727396ac951a4ac501939657\",\"query\":\"Alia Bhatt\"})\n",
    "r.status_code"
   ]
  },
  {
   "cell_type": "code",
   "execution_count": 3,
   "id": "53f6a5a5",
   "metadata": {},
   "outputs": [
    {
     "data": {
      "text/plain": [
       "1108120"
      ]
     },
     "execution_count": 3,
     "metadata": {},
     "output_type": "execute_result"
    }
   ],
   "source": [
    "import json\n",
    "\n",
    "p=json.loads(r.text)\n",
    "ID=p[\"results\"][0][\"id\"]\n",
    "ID"
   ]
  },
  {
   "cell_type": "code",
   "execution_count": 4,
   "id": "11a6443f",
   "metadata": {},
   "outputs": [
    {
     "data": {
      "text/plain": [
       "200"
      ]
     },
     "execution_count": 4,
     "metadata": {},
     "output_type": "execute_result"
    }
   ],
   "source": [
    "rq=requests.get(\"https://api.themoviedb.org/3/person/1108120/external_ids\",params={\"api_key\":\"19601e45727396ac951a4ac501939657\"})\n",
    "rq.status_code"
   ]
  },
  {
   "cell_type": "code",
   "execution_count": 5,
   "id": "d822b8dc",
   "metadata": {},
   "outputs": [
    {
     "data": {
      "text/plain": [
       "{'id': 1108120,\n",
       " 'freebase_mid': None,\n",
       " 'freebase_id': None,\n",
       " 'imdb_id': 'nm1017633',\n",
       " 'tvrage_id': None,\n",
       " 'facebook_id': 'aliabhatt',\n",
       " 'instagram_id': 'aliaabhatt',\n",
       " 'twitter_id': 'Aliaa08'}"
      ]
     },
     "execution_count": 5,
     "metadata": {},
     "output_type": "execute_result"
    }
   ],
   "source": [
    "pq=json.loads(rq.text)\n",
    "pq"
   ]
  },
  {
   "cell_type": "code",
   "execution_count": 6,
   "id": "ef0645f0",
   "metadata": {},
   "outputs": [
    {
     "name": "stdout",
     "output_type": "stream",
     "text": [
      "aliaabhatt   Aliaa08\n"
     ]
    }
   ],
   "source": [
    "# Answer\n",
    "\n",
    "print(pq[\"instagram_id\"],\" \",pq[\"twitter_id\"])"
   ]
  }
 ],
 "metadata": {
  "kernelspec": {
   "display_name": "Python 3 (ipykernel)",
   "language": "python",
   "name": "python3"
  },
  "language_info": {
   "codemirror_mode": {
    "name": "ipython",
    "version": 3
   },
   "file_extension": ".py",
   "mimetype": "text/x-python",
   "name": "python",
   "nbconvert_exporter": "python",
   "pygments_lexer": "ipython3",
   "version": "3.9.7"
  }
 },
 "nbformat": 4,
 "nbformat_minor": 5
}
